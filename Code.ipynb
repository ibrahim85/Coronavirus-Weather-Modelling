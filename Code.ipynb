{
 "cells": [
  {
   "cell_type": "code",
   "execution_count": null,
   "metadata": {},
   "outputs": [],
   "source": [
    "import pandas as pd\n",
    "import numpy as np\n",
    "import json\n",
    "import os"
   ]
  },
  {
   "cell_type": "markdown",
   "metadata": {},
   "source": [
    "## Methods"
   ]
  },
  {
   "cell_type": "code",
   "execution_count": null,
   "metadata": {},
   "outputs": [],
   "source": [
    "def drop_null_vals(df,axis='both'):\n",
    "    '''\n",
    "    Drops columns with all\n",
    "    nan values from a given \n",
    "    data frame.\n",
    "    \n",
    "    Parameters\n",
    "    ----------\n",
    "    df : DataFrame\n",
    "        DataFrame for which\n",
    "        columns are to be\n",
    "        dropped.\n",
    "        \n",
    "    axis : str\n",
    "        Drops all rows with\n",
    "        nan if axis=rows,\n",
    "        all columns if axis=columns,\n",
    "        and both if axis=both.\n",
    "    '''\n",
    "    assert(isinstance(df,pd.DataFrame))\n",
    "    assert(isinstance(axis,str))\n",
    "    \n",
    "    if(axis=='rows'):\n",
    "        return df.dropna(how='all',axis=0)\n",
    "    elif(axis=='columns'):\n",
    "        return df.dropna(how='all',axis=1)\n",
    "    elif(axis=='both'):\n",
    "        return df.dropna(how='all',axis=0).dropna(how='all',axis=1)        "
   ]
  },
  {
   "cell_type": "markdown",
   "metadata": {},
   "source": [
    "## Data"
   ]
  },
  {
   "cell_type": "markdown",
   "metadata": {},
   "source": [
    "### 1. covid_19_data.csv"
   ]
  },
  {
   "cell_type": "markdown",
   "metadata": {},
   "source": [
    "Sno - Serial number<br/>\n",
    "ObservationDate - Date of the observation in MM/DD/YYYY<br/>\n",
    "Province/State - Province or state of the observation (Could be empty when missing)<br/>\n",
    "Country/Region - Country of observation<br/>\n",
    "Last Update - Time in UTC at which the row is updated for the given province or country. (Not standardised and so please clean before using it)<br/>\n",
    "Confirmed - Cumulative number of confirmed cases till that date<br/>\n",
    "Deaths - Cumulative number of of deaths till that date<br/>\n",
    "Recovered - Cumulative number of recovered cases till that date"
   ]
  },
  {
   "cell_type": "markdown",
   "metadata": {},
   "source": [
    "### 2. COVID_open_line_list_data.csv and COVID19_line_list_data.csv"
   ]
  },
  {
   "cell_type": "markdown",
   "metadata": {},
   "source": [
    "Individual level data information\n",
    "<br/>\n",
    "ID<br/>\n",
    "age<br/>\n",
    "sex<br/>\n",
    "city<br/>\n",
    "province<br/>\n",
    "country<br/>\n",
    "wuhan(0)_not_wuhan(1)<br/>\n",
    "latitude<br/>\n",
    "longitude<br/>\n",
    "geo_resolution<br/>\n",
    "date_onset_symptoms<br/>\n",
    "date_admission_hospital<br/>\n",
    "date_confirmation<br/>\n",
    "symptoms<br/>\n",
    "lives_in_Wuhan<br/>\n",
    "travel_history_dates<br/>\n",
    "travel_history_location<br/>\n",
    "reported_market_exposure<br/>\n",
    "additional_information<br/>\n",
    "chronic_disease_binary<br/>\n",
    "chronic_disease<br/>\n",
    "source<br/>\n",
    "sequence_available<br/>\n",
    "outcome<br/>\n",
    "date_death_or_discharge<br/>\n",
    "notes_for_discussion<br/>\n",
    "location<br/>\n",
    "admin3<br/>\n",
    "admin2<br/>\n",
    "admin1<br/>\n",
    "country_new<br/>\n",
    "admin_id<br/>\n",
    "data_moderator_initials<br/>\n",
    "Unnamed: 33<br/>\n",
    "Unnamed: 34<br/>\n",
    "Unnamed: 35<br/>\n",
    "Unnamed: 36<br/>\n",
    "Unnamed: 37<br/>\n",
    "Unnamed: 38<br/>\n",
    "Unnamed: 39<br/>\n",
    "Unnamed: 40<br/>\n",
    "Unnamed: 41<br/>\n",
    "Unnamed: 42<br/>\n",
    "Unnamed: 43<br/>\n",
    "Unnamed: 44"
   ]
  },
  {
   "cell_type": "markdown",
   "metadata": {},
   "source": [
    "### Region wise data"
   ]
  },
  {
   "cell_type": "code",
   "execution_count": null,
   "metadata": {},
   "outputs": [],
   "source": [
    "region_wise_data = drop_null_vals(pd.read_csv('data/covid_19_data.csv'),axis=\"both\")\n",
    "region_wise_data"
   ]
  },
  {
   "cell_type": "markdown",
   "metadata": {},
   "source": [
    "### Individual information"
   ]
  },
  {
   "cell_type": "code",
   "execution_count": null,
   "metadata": {},
   "outputs": [],
   "source": [
    "open_line_list = drop_null_vals(pd.read_csv('data/COVID19_open_line_list.csv'),axis='both')\n",
    "open_line_list"
   ]
  },
  {
   "cell_type": "code",
   "execution_count": null,
   "metadata": {},
   "outputs": [],
   "source": [
    "line_list = drop_null_vals(pd.read_csv('data/COVID19_line_list_data.csv'),'both')\n",
    "line_list"
   ]
  },
  {
   "cell_type": "markdown",
   "metadata": {},
   "source": [
    "### Time series data (John Hopkins)"
   ]
  },
  {
   "cell_type": "code",
   "execution_count": null,
   "metadata": {
    "scrolled": true
   },
   "outputs": [],
   "source": [
    "time_series_confirmed = drop_null_vals(pd.read_csv('data/time_series_covid_19_confirmed.csv'))\n",
    "time_series_deaths = drop_null_vals(pd.read_csv('data/time_series_covid_19_deaths.csv'))\n",
    "time_series_recovered = drop_null_vals(pd.read_csv('data/time_series_covid_19_recovered.csv'))"
   ]
  }
 ],
 "metadata": {
  "kernelspec": {
   "display_name": "Python 3",
   "language": "python",
   "name": "python3"
  },
  "language_info": {
   "codemirror_mode": {
    "name": "ipython",
    "version": 3
   },
   "file_extension": ".py",
   "mimetype": "text/x-python",
   "name": "python",
   "nbconvert_exporter": "python",
   "pygments_lexer": "ipython3",
   "version": "3.7.4"
  }
 },
 "nbformat": 4,
 "nbformat_minor": 2
}
